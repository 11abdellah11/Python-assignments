{
  "nbformat": 4,
  "nbformat_minor": 0,
  "metadata": {
    "colab": {
      "provenance": [],
      "collapsed_sections": []
    },
    "kernelspec": {
      "name": "python3",
      "display_name": "Python 3"
    },
    "language_info": {
      "name": "python"
    }
  },
  "cells": [
    {
      "cell_type": "code",
      "execution_count": null,
      "metadata": {
        "id": "pg8cShXkmnfn"
      },
      "outputs": [],
      "source": []
    },
    {
      "cell_type": "markdown",
      "source": [
        "##Assigment number 1"
      ],
      "metadata": {
        "id": "c2_1muHkmojH"
      }
    },
    {
      "cell_type": "markdown",
      "source": [
        "1. Find out all the types of error that we have encountered in our lecture and why? Also include the examples.\n",
        "\n",
        "\n",
        "\n",
        "error number 1 :\n",
        "NameError: name 'Ten' is not defined\n",
        "\n",
        "why ? : we print a variable that is not defined yet\n",
        "\n",
        "error number 2:\n",
        "TypeError: 'str' object is not callable\n",
        "\n",
        "Why? : occurs when you declare a variable and name it with a built-in function \n",
        "\n",
        "error number 3:\n",
        "TypeError: 'int' object is not callable\n",
        "\n",
        "Why ? : occurs when you declare a variable and name it with a built-in function\n",
        "\n",
        "error number 4\n",
        "TypeError: unsupported operand type(s) for -: 'int' and 'str'\n",
        "\n",
        "Why ? : occurs when we try to use the division / operator with a string and a number.\n",
        "\n",
        "error number 5\n",
        "    int A\n",
        "        ^\n",
        "SyntaxError: invalid syntax\n",
        "\n",
        "Why ? : we have to use parenthis for the function  ( int() )\n",
        "\n",
        "error number 6\n",
        "\n",
        "ValueError: invalid literal for int() with base 10: '50.22'\n",
        "\n",
        "Why ? : we can not convert a float in a string to an integere\n",
        "\n",
        "error number 7\n",
        "\n",
        "\n",
        "ValueError: invalid literal for int() with base 10: ''\n",
        "\n",
        "Why ? we can not convert an empty str to an integer in Python"
      ],
      "metadata": {
        "id": "EMkDOsWAnLzf"
      }
    },
    {
      "cell_type": "code",
      "source": [
        "####################################################\"\""
      ],
      "metadata": {
        "id": "k-hkmpeBnPyr"
      },
      "execution_count": null,
      "outputs": []
    },
    {
      "cell_type": "markdown",
      "source": [
        "2. Take input A and B and print their sum, mul, div, square of the nos."
      ],
      "metadata": {
        "id": "ZquWOeEJQ-NZ"
      }
    },
    {
      "cell_type": "code",
      "source": [
        "A = float(input('give the value of A'))\n",
        "B = float(input('give the value of B'))\n",
        "\n",
        "print(f'the sum of A {A} and B{B} is {A+B}')\n",
        "print(f'the multiplication of A {A} and B{B} is {A*B}')\n",
        "print(f'the division of A {A} and B{B} is {A/B}') # we can add the close (try except if B is null) to be more precise\n",
        "print(f'th squar of A{A} is {A**2} and the square of B{B} is {B**2}')"
      ],
      "metadata": {
        "colab": {
          "base_uri": "https://localhost:8080/"
        },
        "id": "Z5tsV_VGREid",
        "outputId": "59cf333d-0c75-41c6-c948-6752dbfd9ba8"
      },
      "execution_count": null,
      "outputs": [
        {
          "output_type": "stream",
          "name": "stdout",
          "text": [
            "give the value of A11.4\n",
            "give the value of B4.2\n",
            "the sum of A 11.4 and B4.2 is 15.600000000000001\n",
            "the multiplication of A 11.4 and B4.2 is 47.88\n",
            "the division of A 11.4 and B4.2 is 2.7142857142857144\n",
            "th squar of A11.4 is 129.96 and the square of B4.2 is 17.64\n"
          ]
        }
      ]
    },
    {
      "cell_type": "markdown",
      "source": [
        "3. How many reserve keywords are there in python and why we should not use them as a variable name.\n",
        "\n",
        "there are 33 reserve keywords :\n",
        "\n",
        "\n",
        "False \t// def \t// if // raise\n",
        "None \t//del \t//import \t//return\n",
        "True \t//elif \t//in \t//try\n",
        "and \t//else \t//is \t//while\n",
        "as //\texcept //\tlambda //\twith\n",
        "assert \t//finally //\tnonlocal //\tyield\n",
        "break \t//for //\tnot \t\n",
        "class //\tfrom// \tor \t\n",
        "continue //\tglobal //\tpass\n",
        "\n",
        "Why we can not use them\n",
        "\n",
        "!! You can not use the keywords to define your variables as it will not allow"
      ],
      "metadata": {
        "id": "opME-xLZSYlG"
      }
    },
    {
      "cell_type": "markdown",
      "source": [
        "4. Create email ids with the user inputs. in the following format - \n",
        "lastname.firstname@gmail.com"
      ],
      "metadata": {
        "id": "Fg09mtgaUHfz"
      }
    },
    {
      "cell_type": "code",
      "source": [
        "lastname = input('give your first name')\n",
        "firstname = input('give your last name')\n",
        "\n",
        "print(f'your email adress will be as: {lastname}.{firstname}@hotmail.com')"
      ],
      "metadata": {
        "colab": {
          "base_uri": "https://localhost:8080/"
        },
        "id": "7EBf-ZUMUKws",
        "outputId": "63c8c53b-5d36-4f4b-eb00-9ad17e1a4e92"
      },
      "execution_count": null,
      "outputs": [
        {
          "output_type": "stream",
          "name": "stdout",
          "text": [
            "give your first nameelmennaoui\n",
            "give your last nameabdellah\n",
            "your email adress will be as: elmennaoui.abdellah@hotmail.com\n"
          ]
        }
      ]
    },
    {
      "cell_type": "markdown",
      "source": [
        "5. Try to print the following lines - \n",
        "  - Hi I'm Sunny\n",
        "  - My address is 22\\3 \n",
        "  - I earn 20$ daily."
      ],
      "metadata": {
        "id": "o0hn5jQMVU0m"
      }
    },
    {
      "cell_type": "code",
      "source": [
        "print('Hi I'm Sunny')"
      ],
      "metadata": {
        "colab": {
          "base_uri": "https://localhost:8080/",
          "height": 131
        },
        "id": "5SdQFsLOVWQt",
        "outputId": "1291d74e-0259-4d88-da1b-e78e6fff040f"
      },
      "execution_count": null,
      "outputs": [
        {
          "output_type": "error",
          "ename": "SyntaxError",
          "evalue": "ignored",
          "traceback": [
            "\u001b[0;36m  File \u001b[0;32m\"<ipython-input-15-8b1858ca0ef1>\"\u001b[0;36m, line \u001b[0;32m1\u001b[0m\n\u001b[0;31m    print('Hi I'm Sunny')\u001b[0m\n\u001b[0m                ^\u001b[0m\n\u001b[0;31mSyntaxError\u001b[0m\u001b[0;31m:\u001b[0m invalid syntax\n"
          ]
        }
      ]
    },
    {
      "cell_type": "code",
      "source": [
        "print('My address is 22\\3 ')"
      ],
      "metadata": {
        "colab": {
          "base_uri": "https://localhost:8080/"
        },
        "id": "cFYdN6ZmU4A1",
        "outputId": "6126b1da-f4c7-43cb-accd-1fc04739b078"
      },
      "execution_count": null,
      "outputs": [
        {
          "output_type": "stream",
          "name": "stdout",
          "text": [
            "My address is 22\u0003 \n"
          ]
        }
      ]
    },
    {
      "cell_type": "code",
      "source": [
        "print('I earn 20$ daily.')"
      ],
      "metadata": {
        "colab": {
          "base_uri": "https://localhost:8080/"
        },
        "id": "6olSbkvHVcK0",
        "outputId": "5011e4b6-a6d0-4445-e143-9597ba0dc420"
      },
      "execution_count": null,
      "outputs": [
        {
          "output_type": "stream",
          "name": "stdout",
          "text": [
            "I earn 20$ daily.\n"
          ]
        }
      ]
    },
    {
      "cell_type": "markdown",
      "source": [
        "6. Take user input (name, address, date of birth etc) to fill a form for your college and print their email IDs"
      ],
      "metadata": {
        "id": "Rm1BnjaYVi1q"
      }
    },
    {
      "cell_type": "code",
      "source": [
        "username = input('give your username ')\n",
        "adress = input('give your adress ')\n",
        "date_of_birth = input('give your date of birth ')\n",
        "\n",
        "print(f' i am {username} and i live in {adress} i was born on the {date_of_birth}')"
      ],
      "metadata": {
        "colab": {
          "base_uri": "https://localhost:8080/"
        },
        "id": "ZCkYzB67Vlpi",
        "outputId": "573439c8-44e7-4e51-c8cd-569beae51fd2"
      },
      "execution_count": null,
      "outputs": [
        {
          "output_type": "stream",
          "name": "stdout",
          "text": [
            "give your username abdellah\n",
            "give your adress France\n",
            "give your date of birth 1999\n",
            " i am abdellah and i live in France i was born on the 1999\n"
          ]
        }
      ]
    },
    {
      "cell_type": "markdown",
      "source": [
        "7. Convert the following - \n",
        "  - \"22.4\" into integer\n",
        "  - \"22\" into complex no."
      ],
      "metadata": {
        "id": "uWMhXHtKWt8f"
      }
    },
    {
      "cell_type": "code",
      "source": [
        "# \"22.4\" into integer\n",
        "a = int(float(\"22.4\"))"
      ],
      "metadata": {
        "id": "McK5SbPTWmzD"
      },
      "execution_count": null,
      "outputs": []
    },
    {
      "cell_type": "code",
      "source": [
        "a\n"
      ],
      "metadata": {
        "colab": {
          "base_uri": "https://localhost:8080/"
        },
        "id": "DZh5fXviW6Xb",
        "outputId": "50f96e2d-f871-4d8f-dbeb-ce2a290d9f30"
      },
      "execution_count": null,
      "outputs": [
        {
          "output_type": "execute_result",
          "data": {
            "text/plain": [
              "22"
            ]
          },
          "metadata": {},
          "execution_count": 22
        }
      ]
    },
    {
      "cell_type": "code",
      "source": [
        "Z = complex(int('22'))"
      ],
      "metadata": {
        "id": "bFXlXaL0XDmz"
      },
      "execution_count": null,
      "outputs": []
    },
    {
      "cell_type": "code",
      "source": [
        "Z\n"
      ],
      "metadata": {
        "colab": {
          "base_uri": "https://localhost:8080/"
        },
        "id": "x_eC9kihXQAq",
        "outputId": "d24d329c-a3d6-460b-cd40-12ed33386f47"
      },
      "execution_count": null,
      "outputs": [
        {
          "output_type": "execute_result",
          "data": {
            "text/plain": [
              "(22+0j)"
            ]
          },
          "metadata": {},
          "execution_count": 24
        }
      ]
    },
    {
      "cell_type": "code",
      "source": [],
      "metadata": {
        "id": "h0D-gvDqXQxm"
      },
      "execution_count": null,
      "outputs": []
    }
  ]
}